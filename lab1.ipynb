{
 "cells": [
  {
   "cell_type": "markdown",
   "metadata": {},
   "source": [
    "Laboratorio 1 - Regresión lineal \n",
    "Integrantes: \n",
    "Silvana Echeverry - 202310470\n",
    "David Mora - \n",
    "Carlos Vargas"
   ]
  },
  {
   "cell_type": "code",
   "execution_count": 2,
   "metadata": {},
   "outputs": [],
   "source": [
    "#importando librerias \n",
    "\n",
    "import pandas as pd\n",
    "import matplotlib.pyplot as plt\n",
    "import sklearn as sk\n",
    "import seaborn as sns"
   ]
  },
  {
   "cell_type": "code",
   "execution_count": 9,
   "metadata": {},
   "outputs": [],
   "source": [
    "data_train = pd.read_csv('/Users/silvanaecheverry/Downloads/datos_entrenamiento_laboratorio1(train_data).csv')\n",
    "data_test = pd.read_csv('/Users/silvanaecheverry/Downloads/datos_validacion_laboratorio1(test_data).csv')"
   ]
  },
  {
   "cell_type": "markdown",
   "metadata": {},
   "source": [
    "1. Entendimiento de los datos \n",
    "\n",
    "Para esta primera etapa, decidimos hacer uso de diferentes funciones para entender como se comportaban nuestros datos, como: \n",
    "* Head() -> muestra las primera filas del data frame con las columnas \n",
    "* isna().sum() -> nos permitio contar los datos que tenian valores nulos,\n",
    "* dtypes -> saber los tipos de las variables que tenemos\n",
    "\n",
    "Despues de hacer esta exploración de los datos, nos dimos cuenta que ciertas variables importantes estaban con valores nulos, o variables importantes estaban con valores que no les correspondian, por ejemplo: \n",
    "- edad: object -> y deberia ser int\n",
    "- market value: object -> y deberia ser int\n",
    "- dia de partido: object -> fecha \n",
    "y con los valores nulos: \n",
    "- Edad 48\n",
    "- Nacionalidad 32\n",
    "- %_de_regates_exitosos 28.722\n",
    "- %_de_duelos_aereos_ganados 20.957\n",
    "- market_value 12.894 (solo esta en el archivo de entrenamiento)\n",
    "- contract_date 12.916\n",
    "\n",
    "Nuestra variable objetivo es predecir el valor de mercado de un jugador (market_value) a partir de sus estadísticas registradas durante partidos. \n",
    "\n",
    "Cada fila del data set representa el desempeño de un jugador en un partido especifico (fecha de partido). Nos podemos dar cuenta que hay multiples registros de cada jugador en cada uno de los partidos. \n",
    "\n",
    "Además, encontramos que ciertas columnas estan repetidas con datos duplicados como: \n",
    "- xAG\n",
    "- Pasos_Progresivos\n",
    "- Regates_Exitosos\n",
    "- Pases_completados\n",
    "\n",
    "Para hacer una correcta estimación, en esta etapa consideramos que hacen falta variables en cuenta para la estimación, como: \n",
    "- partidos_jugados: Cantidad total de partidos registrados por jugador en la temporada\n",
    "- valor_por_partido: Valor de mercado dividido entre partidos_jugados, ya que segun el partido pueden tener diferente valor\n",
    "- posicion_general: una variable que categorice la posición del jugador\n",
    "\n"
   ]
  },
  {
   "cell_type": "code",
   "execution_count": 11,
   "metadata": {},
   "outputs": [
    {
     "data": {
      "text/plain": [
       "' Usamos estas lineas de codigo para explorar los datos '"
      ]
     },
     "execution_count": 11,
     "metadata": {},
     "output_type": "execute_result"
    }
   ],
   "source": [
    "' Usamos estas lineas de codigo para explorar los datos '\n",
    "#data_test.head()\n",
    "#data_train.head()\n",
    "#data_train.isna().sum() #verificando datos nulos\n",
    "#data_test.isna().sum()\n",
    "#data_test.dtypes\n",
    "#data_train.dtypes"
   ]
  },
  {
   "cell_type": "code",
   "execution_count": null,
   "metadata": {},
   "outputs": [],
   "source": []
  }
 ],
 "metadata": {
  "kernelspec": {
   "display_name": "Python 3",
   "language": "python",
   "name": "python3"
  },
  "language_info": {
   "codemirror_mode": {
    "name": "ipython",
    "version": 3
   },
   "file_extension": ".py",
   "mimetype": "text/x-python",
   "name": "python",
   "nbconvert_exporter": "python",
   "pygments_lexer": "ipython3",
   "version": "3.12.0"
  }
 },
 "nbformat": 4,
 "nbformat_minor": 2
}
