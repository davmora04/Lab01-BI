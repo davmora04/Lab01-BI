{
 "cells": [
  {
   "cell_type": "markdown",
   "metadata": {},
   "source": [
    "Laboratorio 1 - Regresión lineal \n",
    "Integrantes: \n",
    "Silvana Echeverry - 202310470\n",
    "David Mora - \n",
    "Carlos Vargas"
   ]
  },
  {
   "cell_type": "code",
   "execution_count": 1,
   "metadata": {},
   "outputs": [],
   "source": [
    "#importando librerias \n",
    "\n",
    "import pandas as pd\n",
    "import matplotlib.pyplot as plt\n",
    "import sklearn as sk\n",
    "import seaborn as sns"
   ]
  },
  {
   "cell_type": "code",
   "execution_count": 2,
   "metadata": {},
   "outputs": [],
   "source": [
    "data_train = pd.read_csv('/Users/silvanaecheverry/Downloads/datos_entrenamiento_laboratorio1(train_data).csv')\n",
    "data_test = pd.read_csv('/Users/silvanaecheverry/Downloads/datos_validacion_laboratorio1(test_data).csv')"
   ]
  },
  {
   "cell_type": "markdown",
   "metadata": {},
   "source": [
    "1. Entendimiento de los datos \n",
    "\n",
    "Para esta primera etapa, decidimos hacer uso de diferentes funciones para entender como se comportaban nuestros datos, como: \n",
    "* Head() -> muestra las primera filas del data frame con las columnas \n",
    "* isna().sum() -> nos permitio contar los datos que tenian valores nulos,\n",
    "* dtypes -> saber los tipos de las variables que tenemos\n",
    "\n",
    "Despues de hacer esta exploración de los datos, nos dimos cuenta que ciertas variables importantes estaban con valores nulos, o variables importantes estaban con valores que no les correspondian, por ejemplo: \n",
    "- edad: object -> y deberia ser int\n",
    "- market value: object -> y deberia ser int\n",
    "- dia de partido: object -> fecha \n",
    "y con los valores nulos: \n",
    "- Edad 48\n",
    "- Nacionalidad 32\n",
    "- %_de_regates_exitosos 28.722\n",
    "- %_de_duelos_aereos_ganados 20.957\n",
    "- market_value 12.894 (solo esta en el archivo de entrenamiento)\n",
    "- contract_date 12.916\n",
    "\n",
    "Nuestra variable objetivo es predecir el valor de mercado de un jugador (market_value) a partir de sus estadísticas registradas durante partidos. \n",
    "\n",
    "Cada fila del data set representa el desempeño de un jugador en un partido especifico (fecha de partido). Nos podemos dar cuenta que hay multiples registros de cada jugador en cada uno de los partidos. \n",
    "\n",
    "\n",
    "\n"
   ]
  },
  {
   "cell_type": "code",
   "execution_count": 19,
   "metadata": {},
   "outputs": [
    {
     "data": {
      "text/plain": [
       "Jugador                            object\n",
       "Nacionalidad                       object\n",
       "Posicion                           object\n",
       "Edad                               object\n",
       "Dia_partido                        object\n",
       "Goles                               int64\n",
       "Tiros Totales                       int64\n",
       "xG                                float64\n",
       "npxG                              float64\n",
       "xAG                               float64\n",
       "xAG.1                             float64\n",
       "Acciones_que_crean_tiros            int64\n",
       "Pases_intentados                    int64\n",
       "Pases_intentados.1                  int64\n",
       "Pases_intentados.2                  int64\n",
       "Pases_progresivos                   int64\n",
       "Pases_progresivos.1                 int64\n",
       "Regates_exitosos                    int64\n",
       "Regates_exitosos.1                  int64\n",
       "Pases_medios_completados            int64\n",
       "Pases_largos_completados            int64\n",
       "xAG.2                             float64\n",
       "xAG.3                             float64\n",
       "xA                                float64\n",
       "Pases_en_ultimo_tercio              int64\n",
       "Pases_balon_vivo                    int64\n",
       "Pases_balon_muerto                  int64\n",
       "Pases_al_hueco                      int64\n",
       "Pases_centros                       int64\n",
       "Pases_completados                   int64\n",
       "Pases_completados.1                 int64\n",
       "Pases_completados.2                 int64\n",
       "Pases_fuera_de_juego                int64\n",
       "Valla_no_vencida                    int64\n",
       "Errores_defnsivos_ocasion_tiro      int64\n",
       "Toques_en_zona_ofensiva             int64\n",
       "Toques_en_area_rival                int64\n",
       "%_de_regates_exitosos             float64\n",
       "Veces_que_fue_barrido_regate        int64\n",
       "Acarreos_ultimo_tercio              int64\n",
       "Malos_controles                     int64\n",
       "Perdida_balon                       int64\n",
       "Pases_recibidos                     int64\n",
       "Pases_progresivos_recibidos         int64\n",
       "Faltas_cometidas                    int64\n",
       "Centros                             int64\n",
       "Duelos_aereos_ganados               int64\n",
       "%_de_duelos_aereos_ganados        float64\n",
       "contract_date                      object\n",
       "dtype: object"
      ]
     },
     "execution_count": 19,
     "metadata": {},
     "output_type": "execute_result"
    }
   ],
   "source": [
    "\n",
    "#data_test.head()\n",
    "#data_train.head()\n",
    "#data_train.isna().sum() #verificando datos nulos\n",
    "#data_test.isna().sum()\n",
    "#data_test.dtypes\n",
    "#data_train.dtypes"
   ]
  },
  {
   "cell_type": "code",
   "execution_count": null,
   "metadata": {},
   "outputs": [],
   "source": []
  }
 ],
 "metadata": {
  "kernelspec": {
   "display_name": "Python 3",
   "language": "python",
   "name": "python3"
  },
  "language_info": {
   "codemirror_mode": {
    "name": "ipython",
    "version": 3
   },
   "file_extension": ".py",
   "mimetype": "text/x-python",
   "name": "python",
   "nbconvert_exporter": "python",
   "pygments_lexer": "ipython3",
   "version": "3.12.0"
  }
 },
 "nbformat": 4,
 "nbformat_minor": 2
}
